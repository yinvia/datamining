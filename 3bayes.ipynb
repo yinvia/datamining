{
 "cells": [
  {
   "cell_type": "code",
   "execution_count": 56,
   "metadata": {},
   "outputs": [],
   "source": [
    "# naive_bayes.py  -- 朴素贝叶斯\n",
    "\n",
    "import math\n",
    "\n",
    "class NB():\n",
    "\tdef __init__(self):\n",
    "\t\tself.cla_all_num = 0\n",
    "\t\tself.cla_num = {}\n",
    "\t\tself.cla_tag_num = {}\n",
    "\t\tself.landa = 1  # 拉普拉斯修正值\n",
    "\n",
    "\tdef train(self, taglist, cla):  # 训练，每次插入一条数据\n",
    "\t\t# 插入分类\n",
    "\t\tself.cla_all_num += 1\n",
    "\t\tif cla in self.cla_num:  # 是否已存在该分类\n",
    "\t\t\tself.cla_num[cla] += 1\n",
    "\t\telse:\n",
    "\t\t\tself.cla_num[cla] = 1\n",
    "\t\tif cla not in self.cla_tag_num:\n",
    "\t\t\tself.cla_tag_num[cla] = {}  # 创建每个分类的标签字典\n",
    "\t\t# 插入标签\n",
    "\t\ttmp_tags = self.cla_tag_num[cla]  # 浅拷贝，用作别名\n",
    "\t\tfor tag in taglist:\n",
    "\t\t\tif tag in tmp_tags:\n",
    "\t\t\t\ttmp_tags[tag] += 1\n",
    "\t\t\telse:\n",
    "\t\t\t\ttmp_tags[tag] = 1\n",
    "\n",
    "\tdef P_C(self, cla):  # 计算分类 cla 的先验概率\n",
    "\t\treturn self.cla_num[cla] / self.cla_all_num\n",
    "\n",
    "\tdef P_all_C(self):  # 计算所有分类的先验概率\n",
    "\t\ttmpdict = {}\n",
    "\t\tfor key in self.cla_num.keys():\n",
    "\t\t\ttmpdict[key] = self.cla_num[key] / self.cla_all_num\n",
    "\t\treturn tmpdict\n",
    "\n",
    "\tdef P_W_C(self, tag, cla):  # 计算分类 cla 中标签 tag 的后验概率\n",
    "\t\ttmp_tags = self.cla_tag_num[cla]  # 浅拷贝，用作别名\n",
    "\t\tprint(tmp_tags)\n",
    "\t\tif tag not in self.cla_tag_num[cla]:\n",
    "\t\t\treturn self.landa / (self.cla_num[cla] + len(tmp_tags) * self.landa)  # 拉普拉斯修正\n",
    "\t\treturn (tmp_tags[tag] + self.landa) / (self.cla_num[cla] + len(tmp_tags) * self.landa)\n",
    "\n",
    "\tdef test(self, test_tags):  # 测试\n",
    "\t\tres = ''\n",
    "\t\tres_P = None\n",
    "\t\tfor cla in self.cla_num.keys():\n",
    "\t\t\tlog_P_W_C = 0\n",
    "\t\t\tfor tag in test_tags:\n",
    "\t\t\t\tlog_P_W_C += math.log(self.P_W_C(tag, cla))\n",
    "\t\t\ttmp_P = log_P_W_C + math.log(self.P_C(cla))  # P(w|Ci) * P(Ci)\n",
    "\t\t\tif res_P is None:\n",
    "\t\t\t\tres = cla\n",
    "\t\t\t\tres_P = tmp_P\n",
    "\t\t\tif tmp_P > res_P:\n",
    "\t\t\t\tres = cla\n",
    "\t\t\t\tres_P = tmp_P\n",
    "\t\treturn res\n",
    "\n",
    "\tdef set_landa(self, landa):\n",
    "\t\tself.landa = landa\n",
    "\n",
    "\tdef clear(self):  # 重置模型\n",
    "\t\tself.cla_all_num = 0\n",
    "\t\tself.cla_num.clear()\n",
    "\t\tself.cla_tag_num.clear()\n",
    "\n"
   ]
  },
  {
   "cell_type": "code",
   "execution_count": 64,
   "metadata": {},
   "outputs": [
    {
     "name": "stdout",
     "output_type": "stream",
     "text": [
      "测试结果： N\n"
     ]
    }
   ],
   "source": [
    "\t# 测试模型:一个未见过的例子X = <rain, hot, high, false>\n",
    "\ttestdata = ['rain', 'hot', 'high', 'false']\n",
    "\tnb.train(['sunny', 'hot', 'high', 'false'], 'N')\n",
    "\tnb.train(['<sunny', 'hot', 'high', 'true'], 'N')\n",
    "\tnb.train(['overcast', 'hot', 'high', 'false'], 'P')\n",
    "\tnb.train(['rain', 'mild', 'high', 'false'], 'P')\n",
    "\tnb.train(['rain', 'cool', 'normal', 'false'], 'P')\n",
    "\tnb.train(['rain', 'cool', 'normal', 'true'], 'N')\n",
    "\tnb.train(['overcast', 'cool', 'normal', 'true'], 'P')\n",
    "\tnb.train(['sunny', 'mild', 'high', 'false'], 'N')\n",
    "\tnb.train(['sunny', 'cool', 'normal', 'false'], 'P')\n",
    "\tnb.train(['rain', 'mild', 'normal', 'false'], 'P')\n",
    "\tnb.train(['sunny', 'mild', 'normal', 'true'], 'P')\n",
    "\tnb.train(['overcast', 'mild', 'high', 'true'], 'P')\n",
    "\tnb.train(['overcast', 'hot', 'normal', 'false'], 'P')\n",
    "\tnb.train(['rain', 'mild', 'high', 'true'], 'N')\n",
    "\tprint('测试结果：', nb.test(testdata))"
   ]
  },
  {
   "cell_type": "code",
   "execution_count": null,
   "metadata": {},
   "outputs": [],
   "source": []
  }
 ],
 "metadata": {
  "kernelspec": {
   "display_name": "Python 3",
   "language": "python",
   "name": "python3"
  },
  "language_info": {
   "codemirror_mode": {
    "name": "ipython",
    "version": 3
   },
   "file_extension": ".py",
   "mimetype": "text/x-python",
   "name": "python",
   "nbconvert_exporter": "python",
   "pygments_lexer": "ipython3",
   "version": "3.6.5"
  }
 },
 "nbformat": 4,
 "nbformat_minor": 2
}
