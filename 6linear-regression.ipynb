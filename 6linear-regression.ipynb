{
 "cells": [
  {
   "cell_type": "code",
   "execution_count": 36,
   "metadata": {},
   "outputs": [],
   "source": [
    "import numpy as np\n",
    "import pandas as pd\n",
    "from matplotlib import pyplot as plt\n",
    "from sklearn import linear_model\n",
    "from sklearn.linear_model import LinearRegression"
   ]
  },
  {
   "cell_type": "code",
   "execution_count": 44,
   "metadata": {},
   "outputs": [
    {
     "data": {
      "text/plain": [
       "Text(0.5,1,'predict the house price')"
      ]
     },
     "execution_count": 44,
     "metadata": {},
     "output_type": "execute_result"
    },
    {
     "data": {
      "image/png": "[encoded data removed]",
      "text/plain": [
       "<Figure size 432x288 with 1 Axes>"
      ]
     },
     "metadata": {},
     "output_type": "display_data"
    }
   ],
   "source": [
    "#导入数据\n",
    "data=pd.read_csv(r'C:\\Users\\ASUS\\Desktop\\data.csv',encoding='utf-8')\n",
    "#提取自变量和因变量\n",
    "x=data['square_feet']\n",
    "y=data['price']\n",
    "#重构数据，reshape改变数组形状，因为只有一个属性\n",
    "x=x.values.reshape(-1,1)\n",
    "y=y.values.reshape(-1,1)\n",
    "#构造回归对象\n",
    "model=LinearRegression()\n",
    "model.fit(x,y)\n",
    "#获取预测值\n",
    "predict_y=model.predict(x)\n",
    "#构造返回字典predictions\n",
    "predictions={}\n",
    "predictions['intercept']=model.intercept_#截距值\n",
    "predictions['coefficient']=model.coef_#回归系数，斜率\n",
    "predictions['predict_value']=predict_y\n",
    "#绘图\n",
    "plt.scatter(x,y,color='black')#描点\n",
    "plt.plot(x,predict_y,color='red',linewidth=4)#画线\n",
    "plt.title('predict the house price')#标题"
   ]
  },
  {
   "cell_type": "code",
   "execution_count": 47,
   "metadata": {},
   "outputs": [
    {
     "data": {
      "text/plain": [
       "{'intercept': array([1771.80851064]),\n",
       " 'coefficient': array([[28.77659574]]),\n",
       " 'predict_value': array([[ 6088.29787234],\n",
       "        [ 7527.12765957],\n",
       "        [ 8965.95744681],\n",
       "        [10404.78723404],\n",
       "        [11843.61702128],\n",
       "        [13282.44680851],\n",
       "        [19037.76595745]])}"
      ]
     },
     "execution_count": 47,
     "metadata": {},
     "output_type": "execute_result"
    }
   ],
   "source": [
    "predictions"
   ]
  },
  {
   "cell_type": "code",
   "execution_count": null,
   "metadata": {},
   "outputs": [],
   "source": []
  }
 ],
 "metadata": {
  "kernelspec": {
   "display_name": "Python 3",
   "language": "python",
   "name": "python3"
  },
  "language_info": {
   "codemirror_mode": {
    "name": "ipython",
    "version": 3
   },
   "file_extension": ".py",
   "mimetype": "text/x-python",
   "name": "python",
   "nbconvert_exporter": "python",
   "pygments_lexer": "ipython3",
   "version": "3.6.5"
  }
 },
 "nbformat": 4,
 "nbformat_minor": 2
}
