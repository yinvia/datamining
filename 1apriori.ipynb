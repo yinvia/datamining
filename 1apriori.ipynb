{
 "cells": [
  {
   "cell_type": "code",
   "execution_count": 21,
   "metadata": {},
   "outputs": [],
   "source": [
    "#调用pandas/numpy工具包\n",
    "import pandas as pd\n",
    "import numpy as np"
   ]
  },
  {
   "cell_type": "code",
   "execution_count": 22,
   "metadata": {},
   "outputs": [],
   "source": [
    "#创建数据表\n",
    "data=[['I1','I2','I5'],['I1','I2'],['I2','I4'],['I1','I2','I4'],['I1','I3'],['I1','I2','I3','I5'],['I1','I2','I3'],['I2','I5'],['I2','I3','I4'],['I3','I4']]"
   ]
  },
  {
   "cell_type": "code",
   "execution_count": 23,
   "metadata": {},
   "outputs": [],
   "source": [
    "#创建C1函数\n",
    "def createC1(dataSet):\n",
    "    #创建C1函数，得到一项集\n",
    "    C1=[]\n",
    "    for transaction in dataSet:\n",
    "        for item in transaction:\n",
    "            if not [item] in C1:\n",
    "                C1.append([item])\n",
    "    C1.sort()\n",
    "    return list(map(frozenset,C1))"
   ]
  },
  {
   "cell_type": "code",
   "execution_count": 24,
   "metadata": {},
   "outputs": [],
   "source": [
    "#扫描Data函数，对于每一个项集，扫描data数据，得到每一项的支持度\n",
    "def scanD(D,CK,minSupport):\n",
    "    ssCnt = {}\n",
    "    for tid in D:\n",
    "        for can in CK:\n",
    "            if can.issubset(tid):\n",
    "                if not can in ssCnt:ssCnt[can]=1\n",
    "                else:ssCnt[can]+=1\n",
    "    numItems = float(len(D))\n",
    "    retList = []\n",
    "    supportData={}\n",
    "    for key in ssCnt:\n",
    "        support = ssCnt[key]/numItems\n",
    "        if support>=minSupport:\n",
    "            retList.insert(0,key)\n",
    "        supportData[key]=support\n",
    "    return retList,supportData"
   ]
  },
  {
   "cell_type": "code",
   "execution_count": 25,
   "metadata": {},
   "outputs": [],
   "source": [
    "#频繁项集两两组合\n",
    "def aprioriGen(Lk,k):\n",
    "    retList=[]\n",
    "    lenLk = len(Lk)\n",
    "    for i in range(lenLk):\n",
    "        for j in range(i+1,lenLk):\n",
    "            L1=list(Lk[i])[:k-2];L2=list(Lk[j])[:k-2]\n",
    "            L1.sort();L2.sort()\n",
    "            if L1==L2:\n",
    "                retList.append(Lk[i]|Lk[j])\n",
    "    return retList"
   ]
  },
  {
   "cell_type": "code",
   "execution_count": 26,
   "metadata": {},
   "outputs": [],
   "source": [
    "\n",
    "def apriori(dataSet,minSupport=0.2):\n",
    "    C1=createC1(dataSet)\n",
    "    D=list(map(set,dataSet))\n",
    "    L1,supportData =scanD(D,C1,minSupport)\n",
    "    L=[L1]\n",
    "    k=2\n",
    "    while(len(L[k-2])>0):\n",
    "        CK = aprioriGen(L[k-2],k)\n",
    "        Lk,supK = scanD(D,CK,minSupport)\n",
    "        supportData.update(supK)\n",
    "        L.append(Lk)\n",
    "        k+=1\n",
    "    return L,supportData"
   ]
  },
  {
   "cell_type": "code",
   "execution_count": 27,
   "metadata": {},
   "outputs": [],
   "source": [
    "#规则计算的主函数\n",
    "def generateRules(L,supportData,minConf=0.8):\n",
    "    bigRuleList = []\n",
    "    for i in range(1,len(L)):\n",
    "        for freqSet in L[i]:\n",
    "            H1 = [frozenset([item]) for item in freqSet]\n",
    "            if(i>1):\n",
    "                rulesFromConseq(freqSet,H1,supportData,bigRuleList,minConf)\n",
    "            else:\n",
    "                calcConf(freqSet,H1,supportData,bigRuleList,minConf)\n",
    "    return bigRuleList"
   ]
  },
  {
   "cell_type": "code",
   "execution_count": 28,
   "metadata": {},
   "outputs": [],
   "source": [
    "def calcConf(freqSet,H,supportData,brl,minConf=0.8):\n",
    "    prunedH=[]\n",
    "    for conseq in H:\n",
    "        conf = supportData[freqSet]/supportData[freqSet-conseq]\n",
    "        if conf>=minConf:\n",
    "            print (freqSet-conseq,'--->',conseq,'conf:',conf)\n",
    "            brl.append((freqSet-conseq,conseq,conf))\n",
    "            prunedH.append(conseq)\n",
    "    return prunedH"
   ]
  },
  {
   "cell_type": "code",
   "execution_count": 29,
   "metadata": {},
   "outputs": [],
   "source": [
    "def rulesFromConseq(freqSet,H,supportData,brl,minConf=0.8):\n",
    "    m = len(H[0])\n",
    "    if (len(freqSet)>(m+1)):\n",
    "        Hmp1 = aprioriGen(H,m+1)\n",
    "        Hmp1 = calcConf(freqSet,Hmp1,supportData,brl,minConf)\n",
    "        if(len(Hmp1)>1):\n",
    "            rulesFromConseq(freqSet,Hmp1,supportData,brl,minConf)"
   ]
  },
  {
   "cell_type": "code",
   "execution_count": 30,
   "metadata": {},
   "outputs": [
    {
     "name": "stdout",
     "output_type": "stream",
     "text": [
      "frozenset({'I1'}) ---> frozenset({'I2'}) conf: 0.8333333333333334\n",
      "frozenset({'I5'}) ---> frozenset({'I2'}) conf: 1.0\n"
     ]
    }
   ],
   "source": [
    "if __name__=='__main__':\n",
    "    dataSet=data\n",
    "    L,supportData=apriori(dataSet)\n",
    "    rules = generateRules(L,supportData,minConf=0.8)"
   ]
  },
  {
   "cell_type": "code",
   "execution_count": null,
   "metadata": {},
   "outputs": [],
   "source": []
  }
 ],
 "metadata": {
  "kernelspec": {
   "display_name": "Python 3",
   "language": "python",
   "name": "python3"
  },
  "language_info": {
   "codemirror_mode": {
    "name": "ipython",
    "version": 3
   },
   "file_extension": ".py",
   "mimetype": "text/x-python",
   "name": "python",
   "nbconvert_exporter": "python",
   "pygments_lexer": "ipython3",
   "version": "3.6.5"
  }
 },
 "nbformat": 4,
 "nbformat_minor": 2
}
